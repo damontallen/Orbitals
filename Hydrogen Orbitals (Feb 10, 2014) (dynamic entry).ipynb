{
 "metadata": {
  "name": ""
 },
 "nbformat": 3,
 "nbformat_minor": 0,
 "worksheets": [
  {
   "cells": [
    {
     "cell_type": "raw",
     "metadata": {},
     "source": [
      "\\pagestyle{plain} %For page numbering in PDF version."
     ]
    },
    {
     "cell_type": "heading",
     "level": 1,
     "metadata": {},
     "source": [
      "Electron Orbital Visualization"
     ]
    },
    {
     "cell_type": "markdown",
     "metadata": {},
     "source": [
      "This notebook was developed for the Quantum Chemistry graduate course (CHM 6470 - Chemical Bonding and Spectra I) at the University of Florida.  It used the Hydrogen atom wavefunctions to provide visualizations of the quantum equations of the atomic orbitals. The visualization requires the use of the \"mayavi2\" library to display isoplots (surfaces of equal value) of the probability density functions. It is these functions that can be interpreted as describing the most probable location for finding an electron."
     ]
    },
    {
     "cell_type": "heading",
     "level": 2,
     "metadata": {},
     "source": [
      "Usage:"
     ]
    },
    {
     "cell_type": "markdown",
     "metadata": {},
     "source": [
      "*This notebook was started using Python 2.7.3 with the following command:*\n",
      "\n",
      "    ipython notebook\n",
      "    \n",
      "*The information in this notebook is partially based on the information found at the following site:*\n",
      "\n",
      "http://panda.unm.edu/Courses/Finley/P262/Hydrogen/WaveFcns.html\n",
      "\n",
      "http://www.hasenkopf2000.net/wiki/page/3d-hydrogen-structure-python/\n",
      "\n",
      "http://www.sethanil.com/python-for-reseach/5\n",
      "\n",
      "Authors:\n",
      "\n",
      "* Damon Allen Ph.D. \n",
      "* [Nick Polfer Ph.D.](http://www.chem.ufl.edu/~polfer/)\n",
      "* Corey Stedwell Ph.D. Candidate \n",
      "\n",
      "Debugging help from:\n",
      "\n",
      "* Nathan Roehr Ph.D. Candidate \n",
      "\n",
      "*(Note: To install mayavi2 on Ubuntu 12.04, type \"sudo apt-get install mayavi2\" in the terminal window.)*"
     ]
    },
    {
     "cell_type": "heading",
     "level": 3,
     "metadata": {},
     "source": [
      "Acknowledgements"
     ]
    },
    {
     "cell_type": "markdown",
     "metadata": {},
     "source": [
      "This project is financially supported by the National Science Foundation under grant CHE-0845450."
     ]
    },
    {
     "cell_type": "heading",
     "level": 2,
     "metadata": {},
     "source": [
      "Quantum Equations"
     ]
    },
    {
     "cell_type": "markdown",
     "metadata": {},
     "source": [
      "The [(radial) probability function](http://www.chemistry.mcmaster.ca/esam/Chapter_3/section_2.html) can be expressed as the product of the square of the [wavefunction](http://en.wikipedia.org/wiki/Hydrogen_atom#Wavefunction) ($\\psi$) times the square of the distance (r) from the nucleus."
     ]
    },
    {
     "cell_type": "heading",
     "level": 3,
     "metadata": {},
     "source": [
      "$P = \\psi^2 r^2$ (probability function)"
     ]
    },
    {
     "cell_type": "markdown",
     "metadata": {},
     "source": [
      "$\\psi$ is a wavefunction that is composed of the radial ($R_{nl}$) and the spherical harmonics ($Y_{lm}$) functions. $R_{nl}$ is dependent on the distance from the center of the atom $r$, and the principal quantum number $n$, and angular momentum quantum number $l$.  $Y_{lm}$ is a function of $l$, the magnetic angular momentum $m_l$, $\\phi$ (defined as the angle of the positon vector in the $\\textbf{xy}$ plane), and $\\theta$ (i.e., angle between $\\textbf{z}$-axis and position vector) in a spherical coordinate system.  For the purposes of this notebook $m_l$ will be expressed simply by the term $m$ to avoid confusion with $l$.\n",
      "\n",
      "<img src=\"http://lowrank.net/gnuplot/spherical_harmonics/coordinate2.png\" alt=\"coords\" />\n",
      "\n",
      "$$\\psi_{nlm}(r,\\theta,\\phi) = R_{nl}(r)Y_{lm}(\\theta,\\phi)$$\n",
      "\n",
      "*(Note: In the following derivations for $\\psi$, $R$ and $Y$'s the quantum number subscripts are dropped in order to prevent confusion with multiplication terms.)*"
     ]
    },
    {
     "cell_type": "markdown",
     "metadata": {},
     "source": [
      "Where:\n",
      "\n",
      "$$R(r) = \\left(\\frac{2\\cdot z}{n\\cdot a_0}\\right)^{3/2} \\sqrt{\\frac{(n-l-1)!}{2\\cdot n\\cdot [(n+l)!]^3}}\\cdot exp\\left(\\frac{-z\\cdot r}{n \\cdot a_0}\\right) \\cdot \\left(\\frac{2\\cdot z\\cdot r}{n \\cdot a_0} \\right)^l \\cdot L^{2\\cdot l +1}_{n-l-1}  \\left(\\frac{2 \\cdot z \\cdot r}{n\\cdot a_0} \\right)$$\n",
      "\n",
      "Where:\n",
      "\n",
      "$z$ refers to the atomic charge of the nucleus (i.e., +1 for hydrogen)\n",
      "\n",
      "$a_0$ refers to the Bohr radius (assume $a_0 = 1$ for unity)\n",
      "\n",
      "and $L$ is a [Laguerre polynomial](http://en.wikipedia.org/wiki/Laguerre_polynomials):\n",
      "\n",
      "$$\\hspace{20 mm}\\text{Where: } L^{2\\cdot l +1}_{n-l-1}\\left(\\frac{2 \\cdot z \\cdot r}{n\\cdot a_0} \\right) = \\sum_{i=0}^{n-l-1}{\\frac{(-i)^i\\cdot\\left((n+l)!\\right)^2 \\left( \\frac {2zr}{n a_0}\\right)^i} {i!\\cdot(n-l-1-i)!\\cdot(2\\cdot l+1+i)!}}$$\n",
      "\n"
     ]
    },
    {
     "cell_type": "markdown",
     "metadata": {},
     "source": [
      "$$\\text{ }$$\n",
      "\n",
      "$$Y^{m}_{l}(\\theta,\\phi)=(-1)^{|m|}\\cdot\\sqrt{\\frac{(2\\cdot l+1)(l-|m|)!}{4\\cdot\\pi\\cdot (l+|m|)!}}\\cdot e^{i\\cdot m \\cdot\\phi}\\cdot P^{|m|}_{l}(cos(\\theta))$$\n",
      "\n",
      "Where $P_l^m$ is a [Legendre polynomial](http://en.wikipedia.org/wiki/Legendre_polynomials).\n",
      "\n",
      "$$\\hspace{20 mm}\\text{Where: }P^{|m|}_{l}(cos(\\theta))=\\left(1-cos^2(\\theta)\\right)^{\\left|\\frac{m}{2}\\right|} \\cdot \\frac{\\delta^{|m|} }{\\delta (cos(\\theta))^{|m|}}(P_l(cos(\\theta)))$$\n",
      "\n",
      "$$\\hspace{20 mm}\\text{Where: }P^{|m|}_{l}(cos(\\theta))=sin^{\\left|m\\right|}(\\theta) \\cdot \\frac{\\delta^{|m|} }{\\delta (cos(\\theta))^{|m|}}(P_l(cos(\\theta)))$$\n",
      "\n",
      "$\\hspace{20 mm}$[Rodrigues\u2019 formula](http://en.wikipedia.org/wiki/Rodrigues%27_formula) provides a solution to the Legendre polynomial $P_l$.\n",
      "\n",
      "$$\\hspace{20 mm}\\hspace{20 mm}\\text{and where: }P_l(cos(\\theta)) = \\frac{1}{2^l\\cdot l!} \\frac{d^l}{d (cos(\\theta))^l} (cos^2(\\theta)-1)^l$$\n",
      "\n",
      "*(Note that the $\\delta^m$ term refers refers to the derivative with order m with respect to $cos(\\theta)$ and the $d^l$ term refers to the derivative with order $l$ with respect to $cos(\\theta)$.)*"
     ]
    },
    {
     "cell_type": "heading",
     "level": 3,
     "metadata": {},
     "source": [
      "Displaying the Orbitals"
     ]
    },
    {
     "cell_type": "markdown",
     "metadata": {},
     "source": [
      "For purposes of display we are only intrested in the real portion of $Y^{m}_{l}(\\theta,\\phi)$.\n",
      "\n",
      "Specifically, if $m\\ne0$ then we evaluate $Y$ in with the following modifications.\n",
      "\n",
      "For the real part:\n",
      "\n",
      "$$Y^{m}_{l}(\\theta,\\phi)=\\left|\\sqrt{\\frac{(2\\cdot l+1)(l-|m|)!}{4\\cdot\\pi\\cdot (l+|m|)!}}\\cdot \\left(\\sqrt{2} \\cdot \\Re\\left\\{e^{i\\cdot m \\cdot\\phi}\\right\\}\\right)\\cdot P^{|m|}_{l}(cos(\\theta))\\right|$$  (If $m>0$)\n",
      "\n",
      "*(Note that the $(-1)^{|m|}$ goes away when only using the real or imaginary portions but you have to take the absolute value.)*\n",
      "\n",
      "*(Note that $\\Re\\left\\{e^{i\\cdot m \\cdot\\phi}\\right\\}$ denotes the real part of $e^{i\\cdot m \\cdot\\phi}$)*\n",
      "\n",
      "or, for the imaginary part:\n",
      "\n",
      "$$Y^{m}_{l}(\\theta,\\phi)=\\left|\\sqrt{\\frac{(2\\cdot l+1)(l-|m|)!}{4\\cdot\\pi\\cdot (l+|m|)!}}\\cdot \\left(\\sqrt{2} \\cdot \\Im\\left\\{e^{i\\cdot m \\cdot\\phi}\\right\\}\\right)\\cdot P^{|m|}_{l}(cos(\\theta))\\right|$$  (If $m<0$)"
     ]
    },
    {
     "cell_type": "markdown",
     "metadata": {},
     "source": [
      "*(Note that the real and imaginary portions are multiplied with a scaling factor equal to $\\frac{2}{\\sqrt{2}} = \\sqrt{2}$)*"
     ]
    },
    {
     "cell_type": "heading",
     "level": 3,
     "metadata": {},
     "source": [
      "Notes on computational alternatives:"
     ]
    },
    {
     "cell_type": "markdown",
     "metadata": {},
     "source": [
      "When solving the real or imaginary portions by hand the [Euler's formula](http://en.wikipedia.org/wiki/Euler%27s_formula) is used and the results are added up.\n",
      "\n",
      "For example, if $l=1$ and $m=1$,  the real solution is:"
     ]
    },
    {
     "cell_type": "markdown",
     "metadata": {},
     "source": [
      "$=\\frac{1}{2}\\cdot\\sqrt{\\frac{3}{2\\cdot\\pi}}\\cdot sin(\\theta)\\cdot\\left(cos(\\phi)-i\\cdot sin(\\phi) + cos(\\phi)+i\\cdot sin(\\phi) \\right)$\n",
      "\n",
      "$=\\frac{1}{2}\\cdot\\sqrt{\\frac{3}{2\\cdot\\pi}}\\cdot sin(\\theta)\\cdot\\left(cos(\\phi) + cos(\\phi) \\right)$"
     ]
    },
    {
     "cell_type": "markdown",
     "metadata": {},
     "source": [
      "$=\\frac{1}{2}\\cdot\\sqrt{\\frac{3}{2\\cdot\\pi}}\\cdot sin(\\theta)\\cdot 2 \\cdot cos(\\phi) $"
     ]
    },
    {
     "cell_type": "markdown",
     "metadata": {},
     "source": [
      "$=\\sqrt{\\frac{3}{2\\cdot\\pi}}\\cdot sin(\\theta)\\cdot  cos(\\phi) $"
     ]
    },
    {
     "cell_type": "markdown",
     "metadata": {},
     "source": [
      "This result needs to be scaled scaling by a factor $\\frac{1}{\\sqrt{2}}$.\n",
      "\n",
      "$=\\frac{1}{\\sqrt{2}}\\cdot\\sqrt{\\frac{3}{2\\cdot\\pi}}\\cdot sin(\\theta)\\cdot  cos(\\phi) $\n",
      "\n",
      "$=\\sqrt{\\frac{3}{4\\cdot\\pi}}\\cdot sin(\\theta)\\cdot  cos(\\phi) $"
     ]
    },
    {
     "cell_type": "heading",
     "level": 2,
     "metadata": {},
     "source": [
      "Import Libraries:"
     ]
    },
    {
     "cell_type": "markdown",
     "metadata": {},
     "source": [
      "In order to have mayavi.mlab display correctly, version 2.7 of Python must be used."
     ]
    },
    {
     "cell_type": "code",
     "collapsed": false,
     "input": [
      "import sys #texting for the right version of Python to use with mayavi\n",
      "print(\"Python version = {}\".format(sys.version))\n",
      "print(\"Machine readable Python version = {}\".format(sys.version_info))\n",
      "sys.version_info[0]"
     ],
     "language": "python",
     "metadata": {},
     "outputs": [
      {
       "output_type": "stream",
       "stream": "stdout",
       "text": [
        "Python version = 2.7.5 |Anaconda 1.7.0 (64-bit)| (default, Jul  1 2013, 12:37:52) [MSC v.1500 64 bit (AMD64)]\n",
        "Machine readable Python version = sys.version_info(major=2, minor=7, micro=5, releaselevel='final', serial=0)\n"
       ]
      },
      {
       "metadata": {},
       "output_type": "pyout",
       "prompt_number": 1,
       "text": [
        "2"
       ]
      }
     ],
     "prompt_number": 1
    },
    {
     "cell_type": "markdown",
     "metadata": {},
     "source": [
      "Additionally, this notebook uses the *sympy* library to symbolically develop the equations needed to calculate the probability function to the wave equation.  Once derived these equations are converted to *numpy* versions for speed and compatibility with the *mayavi* library."
     ]
    },
    {
     "cell_type": "code",
     "collapsed": false,
     "input": [
      "print(\"The library version numbers used in this notebook are:\")\n",
      "if sys.version_info[0]==2:\n",
      "    #this requires the use of no higher than python 2.7 \n",
      "    from mayavi import __version__ as mayavi_version  \n",
      "#     import scipy.special\n",
      "#     import scipy.misc\n",
      "    from mayavi import mlab\n",
      "    print(\"mayavi version:  %s\"%mayavi_version)\n",
      "else:\n",
      "    print(\"The use of mayavi.mlab to display the orbital requires the \"+\\\n",
      "          \"use of Python 2.7.3\")\n",
      " \n",
      "from IPython import __version__ as IPython_version \n",
      "from IPython.display import Latex\n",
      "import numpy as np\n",
      "import sympy\n",
      "\n",
      "#\"I\" is sympy's imaginary number\n",
      "from sympy import symbols,I,latex,pi,diff \n",
      "from sympy.utilities.lambdify import lambdastr\n",
      "from sympy import factorial as fac\n",
      "from sympy.functions import Abs,sqrt,exp,cos,sin\n",
      "from sympy import re, im, simplify\n",
      "\n",
      "#display the latex representation of a symbolic variable by default.\n",
      "from sympy import init_printing \n",
      "init_printing(use_unicode=True)\n",
      "\n",
      "a_0,z,r=symbols(\"a_0,z,r\")\n",
      "n,m,l=symbols(\"n,m,l\",integer=True)\n",
      "int_m=symbols(\"int_m\",integer=True)\n",
      "theta,phi = symbols(\"\\\\theta,\\\\phi\",real=True)\n",
      "\n",
      "#The variables will used with lambdify...\n",
      "angle_theta, angle_phi, radius = symbols(\"angle_theta,angle_phi,radius\",\n",
      "                                         real=True)\n",
      "\n",
      "\n",
      "print(\"numpy version:   %s\"%np.__version__)\n",
      "print(\"sympy version:   %s\"%sympy.__version__)\n",
      "\n",
      "print(\"IPython version: %s\"%IPython_version)"
     ],
     "language": "python",
     "metadata": {},
     "outputs": [
      {
       "output_type": "stream",
       "stream": "stdout",
       "text": [
        "The library version numbers used in this notebook are:\n",
        "mayavi version:  4.3.0"
       ]
      },
      {
       "output_type": "stream",
       "stream": "stdout",
       "text": [
        "\n",
        "numpy version:   1.7.1"
       ]
      },
      {
       "output_type": "stream",
       "stream": "stdout",
       "text": [
        "\n",
        "sympy version:   0.7.3\n",
        "IPython version: 1.0.0\n"
       ]
      }
     ],
     "prompt_number": 2
    },
    {
     "cell_type": "markdown",
     "metadata": {},
     "source": [
      "*(Note: Even though the SciPy library has both the Laguerre and and spherical harmonics functions in it, for purposes of clarity in the derivation and consistency in the way orbitals have been traditionally represented in Chemistry, specific solutions of these functions are developed and written here.)*"
     ]
    },
    {
     "cell_type": "heading",
     "level": 2,
     "metadata": {},
     "source": [
      "Declare Functions:"
     ]
    },
    {
     "cell_type": "heading",
     "level": 3,
     "metadata": {},
     "source": [
      "Defining $P_l$ (Legendre polynomial):"
     ]
    },
    {
     "cell_type": "markdown",
     "metadata": {},
     "source": [
      "$$P_l(cos(\\theta)) = \\frac{1}{2^l\\cdot l!} \\frac{d^l}{d (cos(\\theta))^l} (cos^2(\\theta)-1)^l$$"
     ]
    },
    {
     "cell_type": "code",
     "collapsed": false,
     "input": [
      "def P_l(l,theta): #valid for l greater than equal to zero\n",
      "    \"\"\"Legendre polynomial\"\"\"\n",
      "    if l>=0:\n",
      "        eq=diff((cos(theta)**2-1)**l,cos(theta),l)\n",
      "    else:\n",
      "        print(\"l must be an integer equal to 0 or greater\")\n",
      "        raise ValueError\n",
      "    return 1/(2**l*fac(l))*eq"
     ],
     "language": "python",
     "metadata": {},
     "outputs": [],
     "prompt_number": 3
    },
    {
     "cell_type": "heading",
     "level": 4,
     "metadata": {},
     "source": [
      "Validation"
     ]
    },
    {
     "cell_type": "code",
     "collapsed": false,
     "input": [
      "P_l(0,theta)"
     ],
     "language": "python",
     "metadata": {},
     "outputs": [
      {
       "latex": [
        "$$1$$"
       ],
       "metadata": {},
       "output_type": "pyout",
       "prompt_number": 4,
       "text": [
        "1"
       ]
      }
     ],
     "prompt_number": 4
    },
    {
     "cell_type": "code",
     "collapsed": false,
     "input": [
      "P_l(1,theta)"
     ],
     "language": "python",
     "metadata": {},
     "outputs": [
      {
       "latex": [
        "$$\\cos{\\left (\\theta \\right )}$$"
       ],
       "metadata": {},
       "output_type": "pyout",
       "prompt_number": 5,
       "text": [
        "cos(\\theta)"
       ]
      }
     ],
     "prompt_number": 5
    },
    {
     "cell_type": "code",
     "collapsed": false,
     "input": [
      "P_l(2,theta)"
     ],
     "language": "python",
     "metadata": {},
     "outputs": [
      {
       "latex": [
        "$$\\frac{1}{2} \\left(3 \\cos^{2}{\\left (\\theta \\right )} - 1\\right)$$"
       ],
       "metadata": {},
       "output_type": "pyout",
       "prompt_number": 6,
       "text": [
        "     2            \n",
        "3\u22c5cos (\\theta) - 1\n",
        "\u2500\u2500\u2500\u2500\u2500\u2500\u2500\u2500\u2500\u2500\u2500\u2500\u2500\u2500\u2500\u2500\u2500\u2500\n",
        "        2         "
       ]
      }
     ],
     "prompt_number": 6
    },
    {
     "cell_type": "heading",
     "level": 3,
     "metadata": {},
     "source": [
      "Defining $P^{|m|}_{l}$ (Legendre polynomial):"
     ]
    },
    {
     "cell_type": "markdown",
     "metadata": {},
     "source": [
      "$$P^{|m|}_{l}(cos(\\theta))=\\left(1-cos^2(\\theta)\\right)^{\\left|\\frac{m}{2}\\right|} \\cdot  {\\frac{\\delta^{|m|} }{\\delta (cos(\\theta))^{|m|}}(P_l(cos(\\theta)))}$$\n",
      "\n",
      "Which equals...\n",
      "\n",
      "$$P^{|m|}_{l}(cos(\\theta))=sin^{\\left|m\\right|}(\\theta) \\cdot  {\\frac{\\delta^{|m|} }{\\delta (cos(\\theta))^{|m|}}(P_l(cos(\\theta)))}$$"
     ]
    },
    {
     "cell_type": "code",
     "collapsed": false,
     "input": [
      "def P_l_m(m,l,theta):\n",
      "    \"\"\"Legendre polynomial\"\"\"\n",
      "    eq = diff(P_l(l,theta),cos(theta),Abs(m))\n",
      "    result = sin(theta)**Abs(m)*eq #note 1-cos^2(theta) = sin^2(theta)\n",
      "    return result"
     ],
     "language": "python",
     "metadata": {},
     "outputs": [],
     "prompt_number": 7
    },
    {
     "cell_type": "heading",
     "level": 4,
     "metadata": {},
     "source": [
      "Validation"
     ]
    },
    {
     "cell_type": "code",
     "collapsed": false,
     "input": [
      "P_l_m(1,1,theta) #Because sqrt(1-cos^(theta)) = sin(theta)"
     ],
     "language": "python",
     "metadata": {},
     "outputs": [
      {
       "latex": [
        "$$\\sin{\\left (\\theta \\right )}$$"
       ],
       "metadata": {},
       "output_type": "pyout",
       "prompt_number": 8,
       "text": [
        "sin(\\theta)"
       ]
      }
     ],
     "prompt_number": 8
    },
    {
     "cell_type": "code",
     "collapsed": false,
     "input": [
      "P_l_m(-1,1,theta) "
     ],
     "language": "python",
     "metadata": {},
     "outputs": [
      {
       "latex": [
        "$$\\sin{\\left (\\theta \\right )}$$"
       ],
       "metadata": {},
       "output_type": "pyout",
       "prompt_number": 9,
       "text": [
        "sin(\\theta)"
       ]
      }
     ],
     "prompt_number": 9
    },
    {
     "cell_type": "heading",
     "level": 3,
     "metadata": {},
     "source": [
      "Defining $Y^{m}_{l}(\\theta,\\phi)$ (Spherical harmonics):"
     ]
    },
    {
     "cell_type": "markdown",
     "metadata": {},
     "source": [
      "$$Y^{m}_{l}(\\theta,\\phi)=\\left|\\sqrt{\\frac{(2\\cdot l+1)(l-|m|)!}{4\\cdot\\pi\\cdot (l+|m|)!}}\\cdot \\left(\\sqrt{2} \\cdot \\Re\\left\\{e^{i\\cdot m \\cdot\\phi}\\right\\}\\right)\\cdot P^{|m|}_{l}(cos(\\theta))\\right|$$  (If $m>0$)\n",
      "\n",
      "or\n",
      "\n",
      "$$Y^{m}_{l}(\\theta,\\phi)=\\left|\\sqrt{\\frac{(2\\cdot l+1)(l-|m|)!}{4\\cdot\\pi\\cdot (l+|m|)!}}\\cdot \\left(\\sqrt{2} \\cdot \\Im\\left\\{e^{i\\cdot m \\cdot\\phi}\\right\\}\\right)\\cdot P^{|m|}_{l}(cos(\\theta))\\right|$$  (If $m<0$)"
     ]
    },
    {
     "cell_type": "code",
     "collapsed": false,
     "input": [
      "def Y_l_m(l,m,phi,theta):\n",
      "    \"\"\"Spherical harmonics\"\"\"\n",
      "    eq = P_l_m(m,l,theta)\n",
      "    if m>0:\n",
      "        pe=re(exp(I*m*phi))*sqrt(2)\n",
      "    elif m<0:\n",
      "        pe=im(exp(I*m*phi))*sqrt(2)\n",
      "    elif m==0:\n",
      "        pe=1\n",
      "    return abs(sqrt(((2*l+1)*fac(l-Abs(m)))/(4*pi*fac(l+Abs(m))))*pe*eq)"
     ],
     "language": "python",
     "metadata": {},
     "outputs": [],
     "prompt_number": 10
    },
    {
     "cell_type": "heading",
     "level": 4,
     "metadata": {},
     "source": [
      "Validation"
     ]
    },
    {
     "cell_type": "code",
     "collapsed": false,
     "input": [
      "Y_l_m(0,0,phi,theta)"
     ],
     "language": "python",
     "metadata": {},
     "outputs": [
      {
       "latex": [
        "$$\\frac{1}{2 \\sqrt{\\pi}}$$"
       ],
       "metadata": {},
       "output_type": "pyout",
       "prompt_number": 11,
       "text": [
        "   1   \n",
        "\u2500\u2500\u2500\u2500\u2500\u2500\u2500\n",
        "    ___\n",
        "2\u22c5\u2572\u2571 \u03c0 "
       ]
      }
     ],
     "prompt_number": 11
    },
    {
     "cell_type": "code",
     "collapsed": false,
     "input": [
      "Y_l_m(1,0,phi,theta)"
     ],
     "language": "python",
     "metadata": {},
     "outputs": [
      {
       "latex": [
        "$$\\frac{\\sqrt{3}}{2 \\sqrt{\\pi}} \\left\\lvert{\\cos{\\left (\\theta \\right )}}\\right\\rvert$$"
       ],
       "metadata": {},
       "output_type": "pyout",
       "prompt_number": 12,
       "text": [
        "  ___              \n",
        "\u2572\u2571 3 \u22c5\u2502cos(\\theta)\u2502\n",
        "\u2500\u2500\u2500\u2500\u2500\u2500\u2500\u2500\u2500\u2500\u2500\u2500\u2500\u2500\u2500\u2500\u2500\u2500\u2500\n",
        "          ___      \n",
        "      2\u22c5\u2572\u2571 \u03c0       "
       ]
      }
     ],
     "prompt_number": 12
    },
    {
     "cell_type": "code",
     "collapsed": false,
     "input": [
      "l=1\n",
      "m=-1\n",
      "Y_l_m(l,m,phi,theta)"
     ],
     "language": "python",
     "metadata": {},
     "outputs": [
      {
       "latex": [
        "$$\\frac{\\sqrt{3}}{2 \\sqrt{\\pi}} \\left\\lvert{\\sin{\\left (\\phi \\right )} \\sin{\\left (\\theta \\right )}}\\right\\rvert$$"
       ],
       "metadata": {},
       "output_type": "pyout",
       "prompt_number": 13,
       "text": [
        "  ___                        \n",
        "\u2572\u2571 3 \u22c5\u2502sin(\\phi)\u22c5sin(\\theta)\u2502\n",
        "\u2500\u2500\u2500\u2500\u2500\u2500\u2500\u2500\u2500\u2500\u2500\u2500\u2500\u2500\u2500\u2500\u2500\u2500\u2500\u2500\u2500\u2500\u2500\u2500\u2500\u2500\u2500\u2500\u2500\n",
        "               ___           \n",
        "           2\u22c5\u2572\u2571 \u03c0            "
       ]
      }
     ],
     "prompt_number": 13
    },
    {
     "cell_type": "code",
     "collapsed": false,
     "input": [
      "l=1\n",
      "m=1\n",
      "Y_l_m(l,m,phi,theta)"
     ],
     "language": "python",
     "metadata": {},
     "outputs": [
      {
       "latex": [
        "$$\\frac{\\sqrt{3}}{2 \\sqrt{\\pi}} \\left\\lvert{\\sin{\\left (\\theta \\right )} \\cos{\\left (\\phi \\right )}}\\right\\rvert$$"
       ],
       "metadata": {},
       "output_type": "pyout",
       "prompt_number": 14,
       "text": [
        "  ___                        \n",
        "\u2572\u2571 3 \u22c5\u2502sin(\\theta)\u22c5cos(\\phi)\u2502\n",
        "\u2500\u2500\u2500\u2500\u2500\u2500\u2500\u2500\u2500\u2500\u2500\u2500\u2500\u2500\u2500\u2500\u2500\u2500\u2500\u2500\u2500\u2500\u2500\u2500\u2500\u2500\u2500\u2500\u2500\n",
        "               ___           \n",
        "           2\u22c5\u2572\u2571 \u03c0            "
       ]
      }
     ],
     "prompt_number": 14
    },
    {
     "cell_type": "code",
     "collapsed": false,
     "input": [
      "print(Y_l_m(1,1,phi,theta)) #showing the computer's version of symbolic"
     ],
     "language": "python",
     "metadata": {},
     "outputs": [
      {
       "output_type": "stream",
       "stream": "stdout",
       "text": [
        "sqrt(3)*Abs(sin(\\theta)*cos(\\phi))/(2*sqrt(pi))\n"
       ]
      }
     ],
     "prompt_number": 15
    },
    {
     "cell_type": "heading",
     "level": 2,
     "metadata": {},
     "source": [
      "Defining L, R, $\\psi$, and the probability function P:"
     ]
    },
    {
     "cell_type": "markdown",
     "metadata": {},
     "source": [
      "$$R(r) = \\left(\\rho \\right)^{3/2} \\sqrt{\\frac{(n-l-1)!}{2\\cdot n\\cdot [(n+l)!]^3}}\\cdot e^{\\frac{-z}{n \\cdot a_0}\\cdot r} \\left(\\rho \\right)^l \\cdot L^{2\\cdot l +1}_{n-l-1}  \\left(\\rho \\right)$$\n",
      "\n",
      "$$\\text{Where: }$$\n",
      "\n",
      "$$\\hspace{20 mm} L^{2\\cdot l +1}_{n-l-1}\\left(\\rho \\right) = \\sum_{i=0}^{n-l-1}{\\frac{(-i)^i\\cdot\\left((n+l)!\\right)^2 \\left( \\rho \\right)^i} {i!\\cdot(n-l-1-i)!\\cdot(2\\cdot l+1+i)!}}$$\n",
      "\n",
      "$$\\hspace{20 mm} \\text{Where: }\\rho = \\frac{2 \\cdot z \\cdot r}{n \\cdot a_0}$$"
     ]
    },
    {
     "cell_type": "code",
     "collapsed": false,
     "input": [
      "def L(l,n,rho):\n",
      "    \"\"\"Laguerre polynomial\"\"\"\n",
      "    _L = 0.\n",
      "    for i in range((n-l-1)+1): #using a loop to do the summation \n",
      "        _L += ((-i)**i*fac(n+l)**2.*rho**i)/(fac(i)*fac(n-l-1.-i)*\\\n",
      "                                          fac(2.*l+1.+i))\n",
      "    return _L\n",
      "\n",
      "def R(r,n,l,z=1.,a_0=1.):\n",
      "    \"\"\"Radial function\"\"\"\n",
      "    rho = 2.*z*r/(n*a_0)\n",
      "    _L = L(l,n,rho)\n",
      "    _R = (2.*z/(n*a_0))**(3./2.)*sqrt(fac(n-l-1.)/\\\n",
      "         (2.*n*fac(n+l)**3.))*exp(-z/(n*a_0)*r)*rho**l*_L\n",
      "    return _R"
     ],
     "language": "python",
     "metadata": {},
     "outputs": [],
     "prompt_number": 16
    },
    {
     "cell_type": "markdown",
     "metadata": {},
     "source": [
      "$$\\psi_{nlm}(r,\\theta,\\phi) = R_{nl}(r)Y_{lm}(\\theta,\\phi)$$\n",
      "\n",
      "$$P = \\psi^2 r^2$$"
     ]
    },
    {
     "cell_type": "code",
     "collapsed": false,
     "input": [
      "def Psi(r,n,l,m,phi,theta,z=1,a_0=1):\n",
      "    \"\"\"Wavefunction\"\"\"\n",
      "    _Y = Y_l_m(l,m,phi,theta)\n",
      "    _R = R(r,n,l)\n",
      "    return _R*_Y\n",
      "\n",
      "def P(r,n,l,m,phi,theta):\n",
      "    \"\"\"Returns the symbolic equation probability of the location \n",
      "    of an electron\"\"\"\n",
      "    return Psi(r,n,l,m,phi,theta)**2*r**2"
     ],
     "language": "python",
     "metadata": {},
     "outputs": [],
     "prompt_number": 17
    },
    {
     "cell_type": "heading",
     "level": 2,
     "metadata": {},
     "source": [
      "Orbital Plotting Functions"
     ]
    },
    {
     "cell_type": "code",
     "collapsed": false,
     "input": [
      "r_fun = lambda _x,_y,_z: (np.sqrt(_x**2+_y**2+_z**2))\n",
      "theta_fun = lambda _x,_y,_z: (np.arccos(_z/r_fun(_x,_y,_z)))\n",
      "phi_fun = lambda _x,_y,_z: (np.arctan(_y/_x)*(1+_z-_z))\n",
      "\n",
      "def display_orbital(n,l,m_,no_of_contours = 16):\n",
      "    \"\"\"Diplays a 3D view of electron orbitals\"\"\"\n",
      "    #The plot density settings (don't mess with unless you are sure)\n",
      "    rng = 12*n*1.5 #This determines the size of the box \n",
      "    _steps = 55j#           (it needs to be bigger with n).\n",
      "    _x,_y,_z = np.ogrid[-rng:rng:_steps,-rng:rng:_steps,-rng:rng:_steps]\n",
      "    \n",
      "    #Plot tweaks\n",
      "    color = (0,1.0,1.0) #relative RGB color (0-1.0 vs 0-255)\n",
      "    mlab.figure(bgcolor=color) #set the background color of the plot\n",
      "    \n",
      "    \n",
      "    P_tex = \"\" #initialize the LaTex string of the probabilities\n",
      "    \n",
      "    #Validate the quantum numbers\n",
      "    assert(n>=1), \"n must be greater or equal to 1\"       #validate the value of n\n",
      "    assert(0<=l<=n-1), \"l must be between 0 and n-1\"      #validate the value of l\n",
      "    assert(-l<=max(m_)<=l), \"p must be between -l and l\"  #validate the value of p\n",
      "    assert(-l<=min(m_)<=l), \"p must be between -l and l\"  #validate the value of p\n",
      "    \n",
      "        \n",
      "    for m in m_:\n",
      "        #Determine the probability equation symbolically and convert\n",
      "        #it to a string\n",
      "        prob = lambdastr((radius,angle_phi,angle_theta), P(radius,n,l,m,\n",
      "                                                           angle_phi,\n",
      "                                                           angle_theta))\n",
      "        \n",
      "        #record the probability equation as a LaTex string\n",
      "        P_eq = simplify(P(r,n,l,m,phi,theta))\n",
      "        P_tex+=\"$$P =\"+latex(P_eq)+\"$$ \\n\\n \" \n",
      "        \n",
      "        \n",
      "        #print(\"prob before substitution = \\n\\n\".format(prob)) #for debugging\n",
      "        \n",
      "        if '(nan)' in prob: #Check for errors in the equation\n",
      "            print(\"There is a problem with the probability function.\")\n",
      "            raise ValueError\n",
      "        \n",
      "        #Convert the finctions in the probability equation from the sympy  \n",
      "        #library to the numpy library to allow for the use of matrix \n",
      "        #calculations\n",
      "        prob = prob.replace('sin','np.sin') #convert to numpy\n",
      "        prob = prob.replace('cos','np.cos') #convert to numpy\n",
      "        prob = prob.replace('Abs','np.abs') #convert to numpy\n",
      "        prob = prob.replace('pi','np.pi')   #convert to numpy\n",
      "        prob = prob.replace('exp','np.exp') #convert to numpy\n",
      "        \n",
      "        #print(\"prob after substitution = \\n\\n\".format(prob)) #for debugging\n",
      "        \n",
      "        #convert the converted string to a callable function\n",
      "        Prob = eval(prob)\n",
      "        \n",
      "        #generate a set of data to plot the contours of.\n",
      "        w = Prob(r_fun(_x,_y,_z),phi_fun(_x,_y,_z),theta_fun(_x,_y,_z))\n",
      "        \n",
      "        #add the generated data to the plot\n",
      "        mlab.contour3d(w,contours=no_of_contours,transparent=True)\n",
      "    \n",
      "    mlab.colorbar()\n",
      "    mlab.outline()\n",
      "    mlab.show() #this pops up a interactive window that allows you to \n",
      "    #            rotate the view\n",
      "    \n",
      "\n",
      "    #Information used for the 2D slices below\n",
      "    limits = []\n",
      "    lengths = []\n",
      "    for cor in (_x,_y,_z):\n",
      "        limit = (np.min(cor),np.max(cor))\n",
      "        limits.append(limit)\n",
      "        #print(np.size(cor))\n",
      "        lengths.append(np.size(cor))\n",
      "        #print(limit)\n",
      "    return (limits, lengths, _x, _y, _z, P_tex)"
     ],
     "language": "python",
     "metadata": {},
     "outputs": [],
     "prompt_number": 18
    },
    {
     "cell_type": "markdown",
     "metadata": {},
     "source": [
      "###Displaying the Orbitals:\n",
      "\n",
      "To display the orbital(s), execute the cell below .\n",
      "\n",
      "Notes on the quantum numbers:\n",
      "\n",
      "* $n$ is greater than or equal to 1\n",
      "* $l$ falls within the inclusive range of zero to $n - 1$\n",
      "* $m$ is within the range of negative $l$ to positive $l$"
     ]
    },
    {
     "cell_type": "code",
     "collapsed": false,
     "input": [
      "#    Set the quantum numbers for the orbitals (all in one spot)\n",
      "import warnings # in order to suppress divide_by_zero warnings...\n",
      "\n",
      "print(\"n must be greater or equal to 1.\")\n",
      "n = int(raw_input(\"Entry the quantum number for n = \"))\n",
      "\n",
      "print(\"\")\n",
      "l_str = raw_input(\"Enter a value for l such that it is less than n (default l=n-1) l = \")\n",
      "if l_str==\"\":\n",
      "    l=n-1\n",
      "else:\n",
      "    l = int(l_str)\n",
      "\n",
      "print(\"\\nThe next value, m, determines which specific orbital will be displayed.\")\n",
      "print(\"Enter a value(s) for m such that -l <= m <= l.\\n\"+\\\n",
      "      \"m can be a single number for a single orbital or a range for multiple.\")\n",
      "m_str = raw_input(\"Enter a number like, 2, or a range like, -2, 2.  m = \")\n",
      "if \",\" in m_str:\n",
      "    _m = eval(\"(\"+m_str+\")\")\n",
      "    m_ = range(_m[0],_m[1]+1,1)\n",
      "else:\n",
      "    m_ = [int(m_str)]\n",
      "\n",
      "print(\"\\nElectron orbitals are traditionally displayed at a 95% confidence interval.  This means\")\n",
      "print(\"that the isosurface you would see is at a P value that depends on the principal quantum number and the shape of the orbital.  In displaying this surface \")\n",
      "print(\"using the mayavi library this is adjusted by setting the number of isosuface contours.\")\n",
      "print(\"I have found that 16 is a good place to start, however on older computers there may be\")\n",
      "print(\"a problem rendering more than 7.\")\n",
      "n_o_c = raw_input(\"\\nEnter the number of isosurface contours to be displayed:[Default = 16] \")\n",
      "if n_o_c==\"\":\n",
      "    n_o_c = 16\n",
      "else:\n",
      "    n_o_c = abs(int(n_o_c))\n",
      "with warnings.catch_warnings():\n",
      "    warnings.simplefilter(\"ignore\")\n",
      "    limits, lengths, _x, _y, _z, P_tex = display_orbital(n,l,m_,n_o_c)\n",
      "\n",
      "print(\"\\nThe symbolic expression for the resulting probability equation is:\")\n",
      "Latex(P_tex)"
     ],
     "language": "python",
     "metadata": {},
     "outputs": [
      {
       "output_type": "stream",
       "stream": "stdout",
       "text": [
        "n must be greater or equal to 1.\n"
       ]
      },
      {
       "name": "stdout",
       "output_type": "stream",
       "stream": "stdout",
       "text": [
        "Entry the quantum number for n = 3\n"
       ]
      },
      {
       "output_type": "stream",
       "stream": "stdout",
       "text": [
        "\n"
       ]
      },
      {
       "name": "stdout",
       "output_type": "stream",
       "stream": "stdout",
       "text": [
        "Enter a value for l such that it is less than n (default l=n-1) l = 1\n"
       ]
      },
      {
       "output_type": "stream",
       "stream": "stdout",
       "text": [
        "\n",
        "The next value, m, determines which specific orbital will be displayed.\n",
        "Enter a value(s) for m such that -l <= m <= l.\n",
        "m can be a single number for a single orbital or a range for multiple.\n"
       ]
      },
      {
       "name": "stdout",
       "output_type": "stream",
       "stream": "stdout",
       "text": [
        "Enter a number like, 2, or a range like, -2, 2.  m = 1\n"
       ]
      },
      {
       "output_type": "stream",
       "stream": "stdout",
       "text": [
        "\n",
        "Electron orbitals are traditionally displayed at a 95% confidence interval.  This means\n",
        "that the isosurface you would see is at a P value that depends on the principal quantum number and the shape of the orbital.  In displaying this surface \n",
        "using the mayavi library this is adjusted by setting the number of isosuface contours.\n",
        "I have found that 16 is a good place to start, however on older computers there may be\n",
        "a problem rendering more than 7.\n"
       ]
      },
      {
       "name": "stdout",
       "output_type": "stream",
       "stream": "stdout",
       "text": [
        "\n",
        "Enter the number of isosurface contours to be displayed:[Default = 16] 16\n"
       ]
      },
      {
       "output_type": "stream",
       "stream": "stdout",
       "text": [
        "\n",
        "The symbolic expression for the resulting probability equation is:\n"
       ]
      },
      {
       "latex": [
        "$$P =\\frac{0.0164609053497942 r^{4}}{\\pi} 24^{1.0} \\left(0.0277777777777778 r - 0.166666666666667\\right)^{2} e^{- 0.666666666666667 r} \\sin^{2}{\\left (\\theta \\right )} \\cos^{2}{\\left (\\phi \\right )}$$ \n",
        "\n",
        " "
       ],
       "metadata": {},
       "output_type": "pyout",
       "prompt_number": 31,
       "text": [
        "<IPython.core.display.Latex at 0xe9f6668>"
       ]
      }
     ],
     "prompt_number": 31
    },
    {
     "cell_type": "heading",
     "level": 3,
     "metadata": {},
     "source": [
      "Probability Equations:"
     ]
    },
    {
     "cell_type": "markdown",
     "metadata": {},
     "source": [
      "Because the probability equations are solved symbolically we can have the additional benefit of seeing them expressed as equations. \n",
      "\n",
      "For example when $n=2$, with a little simplification, we get the following probability functions: \n",
      "\n",
      "When m is entered as -1 we have:\n",
      "$$\\hspace{50 mm} P = \\frac{r^{4} e^{- r} \\sin^{2}{\\left (\\phi \\right )} \\sin^{2}{\\left (\\theta \\right )}}{32 \\pi}$$ \n",
      "\n",
      "\n",
      "When m is entered as 0 we have:\n",
      "$$\\hspace{50 mm} P = \\frac{r^{4} e^{- r} \\cos^{2}{\\left (\\theta \\right )}}{32 \\pi}$$ \n",
      " \n",
      "\n",
      "When m is entered as 1 we have:\n",
      "$$\\hspace{50 mm} P = \\frac{r^{4} e^{- r} \\sin^{2}{\\left (\\theta \\right )} \\cos^{2}{\\left (\\phi \\right )}}{32 \\pi}$$ \n",
      "\n",
      "\n",
      "Execute the cell below to see the LaTex code for your probability equation."
     ]
    },
    {
     "cell_type": "code",
     "collapsed": false,
     "input": [
      "# Uncomment the line below to see the LaTex probability functions\n",
      "print(P_tex)\n",
      "# Latex(P_tex)"
     ],
     "language": "python",
     "metadata": {},
     "outputs": [
      {
       "output_type": "stream",
       "stream": "stdout",
       "text": [
        "$$P =\\frac{0.00520833333333333 r^{4}}{\\pi} 6^{1.0} e^{- 1.0 r} \\sin^{2}{\\left (\\theta \\right )} \\cos^{2}{\\left (\\phi \\right )}$$ \n",
        "\n",
        " \n"
       ]
      }
     ],
     "prompt_number": 22
    },
    {
     "cell_type": "heading",
     "level": 3,
     "metadata": {},
     "source": [
      "Phase Information (2D Slices)"
     ]
    },
    {
     "cell_type": "markdown",
     "metadata": {},
     "source": [
      "The expression of the probability equation - specifically, taking the square of the wavefunction - leads to a loss of the phase information of the wavefunction.  As visualized in the animation of a d-orbital (see below), we can examine the phase information in a 2D representation."
     ]
    },
    {
     "cell_type": "markdown",
     "metadata": {},
     "source": [
      "![Wikipedia](http://upload.wikimedia.org/wikipedia/commons/6/6f/Drum_vibration_mode22.gif)"
     ]
    },
    {
     "cell_type": "markdown",
     "metadata": {},
     "source": [
      "In order to retain the phase information, the mathematical treatment needs to be different, which we elaborate on below.  \n",
      "\n",
      "####Run the cell below once to define the functions needed for a 2D slice."
     ]
    },
    {
     "cell_type": "code",
     "collapsed": false,
     "input": [
      "import matplotlib.pyplot as plt\n",
      "\n",
      "def Y_l_m_signed(l,m,phi,theta):\n",
      "    \"\"\"Signed spherical harmonics\"\"\"\n",
      "    eq = P_l_m(m,l,theta)\n",
      "    if m>0:\n",
      "        pe=re(exp(I*m*phi))*sqrt(2)\n",
      "    elif m<0:\n",
      "        pe=im(exp(I*m*phi))*sqrt(2)\n",
      "    elif m==0:\n",
      "        pe=1\n",
      "    return sqrt(((2*l+1)*fac(l-Abs(m)))/(4*pi*fac(l+Abs(m))))*pe*eq\n",
      "\n",
      "def Psi_signed(r,n,l,m,phi,theta,z=1,a_0=1):\n",
      "    \"\"\"Signed wave function \"\"\"\n",
      "    _Y = Y_l_m_signed(l,m,phi,theta)\n",
      "    _R = R(r,n,l)\n",
      "    return _R*_Y\n",
      "\n",
      "def signed_P(r,n,l,m,phi,theta):\n",
      "    \"\"\"Returns the symbolic equation probability of the location \n",
      "    of an electron with the phase information included\"\"\"\n",
      "    result = Psi_signed(r,n,l,m,phi,theta)**3*r**2/abs(Psi_signed(r,n,l,m,phi,theta))\n",
      "    return result\n",
      "\n",
      "def orbital_plane(plane = \"xy\"):\n",
      "    \"\"\"Returns information values to display the cross sestional view of the orbitals\"\"\"\n",
      "    center = (np.max(length)-1)/2\n",
      "    if plane not in ['xy','yz','xz']:\n",
      "        er = \"The plane can only be 'xy', 'yz', or 'xz'\"\n",
      "        raise ValueError(er)\n",
      "    for m in m_:\n",
      "        #Determine the probability equation symbolically and convert\n",
      "        #it to a string \n",
      "        \n",
      "        ##(THIS SHOULD BE SIGNED [+ OR -])##\n",
      "        \n",
      "        prob = lambdastr((radius,angle_phi,angle_theta), signed_P(radius,\n",
      "                                                                  n,l,m,\n",
      "                                                                  angle_phi,\n",
      "                                                                  angle_theta))\n",
      "        \n",
      "        #record the probability equation as a LaTex string\n",
      "        P_eq = simplify(P(r,n,l,m,phi,theta))\n",
      "        \n",
      "        #print(\"prob before substitution = \\n\\n\".format(prob)) #for debugging\n",
      "        \n",
      "        if '(nan)' in prob: #Check for errors in the equation\n",
      "            print(\"There is a problem with the probability function.\")\n",
      "            raise ValueError\n",
      "        \n",
      "        #Convert the finctions in the probability equation from the sympy  \n",
      "        #library to the numpy library to allow for the use of matrix \n",
      "        #calculations\n",
      "        prob = prob.replace('sin','np.sin') #convert to numpy\n",
      "        prob = prob.replace('cos','np.cos') #convert to numpy\n",
      "        prob = prob.replace('Abs','np.abs') #convert to numpy\n",
      "        prob = prob.replace('pi','np.pi')   #convert to numpy\n",
      "        prob = prob.replace('exp','np.exp') #convert to numpy\n",
      "        \n",
      "        #print(\"prob after substitution = \\n\\n{}\".format(prob)) #for debugging\n",
      "        \n",
      "        #convert the converted string to a callable function\n",
      "        Prob = eval(prob)\n",
      "        \n",
      "        #generate a set of data to plot the contours of.\n",
      "        w = Prob(r_fun(_x,_y,_z),phi_fun(_x,_y,_z),theta_fun(_x,_y,_z))\n",
      "        #print(plane)\n",
      "        if plane==\"xy\":\n",
      "            W=w[:,:,center]\n",
      "        elif plane == \"yz\":\n",
      "            W=np.array(w[center,:,:]).transpose()\n",
      "        elif plane == \"xz\":\n",
      "            W=np.array(w[:,center,:]).transpose()\n",
      "        na = W==np.nan\n",
      "        W[np.isnan(W)] = 0\n",
      "    return W\n"
     ],
     "language": "python",
     "metadata": {},
     "outputs": [],
     "prompt_number": 32
    },
    {
     "cell_type": "heading",
     "level": 4,
     "metadata": {},
     "source": [
      "Display the 2D slices"
     ]
    },
    {
     "cell_type": "markdown",
     "metadata": {},
     "source": [
      "The phase information of the orbital that was previously rendered in 3D will be displayed be executing the cell below."
     ]
    },
    {
     "cell_type": "code",
     "collapsed": false,
     "input": [
      "from mpl_toolkits.axes_grid1 import make_axes_locatable\n",
      "from matplotlib import rcParams\n",
      "%matplotlib inline\n",
      "rcParams.update({'font.size': 12, 'font.family': 'serif'})\n",
      "length=max(lengths)\n",
      "# print(length)\n",
      "x0,x1,y0,y1 = (-length/2,length/2)*2\n",
      "def demo():\n",
      "    #Figure sizes\n",
      "    fig_x = 12\n",
      "    fig_y = 24\n",
      "    \n",
      "    fig1 = plt.figure(1,figsize=(fig_x,fig_y))\n",
      "    ax=[]\n",
      "    for index, plane in enumerate(['xy','yz','xz']):\n",
      "        ax.append(fig1.add_subplot(3, 1, index+1))\n",
      "        ax[index].set_title('%s Plane'%plane)\n",
      "        ax[index].set_xlabel(plane[0])\n",
      "        ax[index].set_ylabel(plane[1])\n",
      "        result = orbital_plane(plane)\n",
      "        im = ax[index].imshow(result,origin='lower', \n",
      "                              extent=[x0,x1,y0,y1])\n",
      "        \n",
      "        plt.colorbar(im)\n",
      "        plt.tight_layout()\n",
      "\n",
      "    plt.draw()\n",
      "    plt.show()\n",
      "    return result\n",
      "\n",
      "with warnings.catch_warnings():\n",
      "    warnings.simplefilter(\"ignore\")\n",
      "    result = demo()"
     ],
     "language": "python",
     "metadata": {},
     "outputs": [
      {
       "metadata": {},
       "output_type": "display_data",
       "png": "[encoded data removed]",
       "text": [
        "<matplotlib.figure.Figure at 0x140fb390>"
       ]
      }
     ],
     "prompt_number": 33
    },
    {
     "cell_type": "heading",
     "level": 2,
     "metadata": {},
     "source": [
      "Appendix"
     ]
    },
    {
     "cell_type": "heading",
     "level": 3,
     "metadata": {},
     "source": [
      "Example Output using $n=2$, $l=2$, $m=0$ "
     ]
    },
    {
     "cell_type": "markdown",
     "metadata": {},
     "source": [
      "<a href=\"http://i.imgur.com/QM03swU\"><img src=\"http://i.imgur.com/QM03swU.png\" title=\"Hosted by imgur.com\" width=50% height=50% /></a>\n",
      "\n",
      "Variable values used:\n",
      "\n",
      "    n=2\n",
      "    l=1\n",
      "    m = 0\n",
      "    no_of_contours = 16"
     ]
    },
    {
     "cell_type": "heading",
     "level": 3,
     "metadata": {},
     "source": [
      "Example of Single Orbital using $n=2$, $l=1$, $m=0$"
     ]
    },
    {
     "cell_type": "markdown",
     "metadata": {},
     "source": [
      "<a href=\"http://i.imgur.com/NrISjZu\"><img src=\"http://i.imgur.com/NrISjZu.png\" title=\"Hosted by imgur.com\" width=50% height=50%/></a> \n",
      "\n",
      "Variable values used:\n",
      "\n",
      "    n=2\n",
      "    l=1\n",
      "    m = 0\n",
      "    no_of_contours = 16"
     ]
    },
    {
     "cell_type": "heading",
     "level": 3,
     "metadata": {},
     "source": [
      "Example of Single Orbital using $n=4$, $l=3$, $m=-2$"
     ]
    },
    {
     "cell_type": "markdown",
     "metadata": {},
     "source": [
      "<a href=\"http://i.imgur.com/3bfD25v\"><img src=\"http://i.imgur.com/3bfD25v.png\" title=\"Hosted by imgur.com\"  width=50% height=50%/></a>\n",
      "\n",
      "Variable values used:\n",
      "\n",
      "    n=4\n",
      "    l=3\n",
      "    m = -2\n",
      "    no_of_contours = 16"
     ]
    },
    {
     "cell_type": "heading",
     "level": 3,
     "metadata": {},
     "source": [
      "Example Output using $n=8$, $l=7$, $m= -7 \\text{, } 7$ "
     ]
    },
    {
     "cell_type": "markdown",
     "metadata": {},
     "source": [
      "<a href=\"http://i.imgur.com/YGwBxeU\"><img src=\"http://i.imgur.com/YGwBxeU.png\" title=\"Hosted by imgur.com\" height=50% width=50%/></a>\n",
      "\n",
      "Variable values used:\n",
      "\n",
      "    n=8\n",
      "    l=7\n",
      "    m = -7, 7\n",
      "    no_of_contours = 16"
     ]
    }
   ],
   "metadata": {}
  }
 ]
}